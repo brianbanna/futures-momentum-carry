{
 "cells": [
  {
   "cell_type": "markdown",
   "id": "dd6fcba6",
   "metadata": {},
   "source": [
    "# Outline: Futures Momentum & Carry\n",
    "\n",
    "## Problem Statement\n",
    "This project tests systematic strategies in oil, gas, and power futures to evaluate whether simple rules can generate positive risk-adjusted returns.\n",
    "\n",
    "## Research Questions\n",
    "1. Does time-series momentum in oil, gas, and power deliver excess returns?\n",
    "2. Does cross-sectional momentum (long winners, short losers) add value?\n",
    "3. How does carry, measured via roll yield, contribute to performance?\n",
    "4. Is a combined momentum + carry strategy superior to either factor alone?\n",
    "\n",
    "## Planned Methodology\n",
    "- Collect historical futures and ETF data for oil, gas, and power\n",
    "- Define signals:\n",
    "  * Momentum: past 12-month return\n",
    "  * Carry: roll yield between front and next contracts\n",
    "- Backtest rules at daily frequency\n",
    "- Evaluate portfolio performance (cumulative PnL, Sharpe, drawdowns)\n",
    "- Compare results across normal and stressed regimes\n"
   ]
  }
 ],
 "metadata": {
  "language_info": {
   "name": "python"
  }
 },
 "nbformat": 4,
 "nbformat_minor": 5
}
